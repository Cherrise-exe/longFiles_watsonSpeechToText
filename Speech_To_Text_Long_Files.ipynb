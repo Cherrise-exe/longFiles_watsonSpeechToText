{
  "nbformat": 4,
  "nbformat_minor": 0,
  "metadata": {
    "colab": {
      "name": "Speech_To_Text_Long_Files.ipynb",
      "provenance": [],
      "authorship_tag": "ABX9TyMN8iBXp+ybev4cyE6ehJed",
      "include_colab_link": true
    },
    "kernelspec": {
      "name": "python3",
      "display_name": "Python 3"
    },
    "language_info": {
      "name": "python"
    }
  },
  "cells": [
    {
      "cell_type": "markdown",
      "metadata": {
        "id": "view-in-github",
        "colab_type": "text"
      },
      "source": [
        "<a href=\"https://colab.research.google.com/github/Cherrise-exe/longFiles_watsonSpeechToText/blob/main/Speech_To_Text_Long_Files.ipynb\" target=\"_parent\"><img src=\"https://colab.research.google.com/assets/colab-badge.svg\" alt=\"Open In Colab\"/></a>"
      ]
    },
    {
      "cell_type": "markdown",
      "source": [
        "1. Install and Import Dependencies"
      ],
      "metadata": {
        "id": "IKkQZNhQUH7i"
      }
    },
    {
      "cell_type": "code",
      "source": [
        "pip install ibm_watson"
      ],
      "metadata": {
        "colab": {
          "base_uri": "https://localhost:8080/"
        },
        "id": "gwN1sFEHUCnH",
        "outputId": "2b1a9650-4ba3-4086-b836-f00cb0415dd5"
      },
      "execution_count": 56,
      "outputs": [
        {
          "output_type": "stream",
          "name": "stdout",
          "text": [
            "Requirement already satisfied: ibm_watson in /usr/local/lib/python3.7/dist-packages (5.3.0)\n",
            "Requirement already satisfied: ibm-cloud-sdk-core==3.*,>=3.3.6 in /usr/local/lib/python3.7/dist-packages (from ibm_watson) (3.13.2)\n",
            "Requirement already satisfied: python-dateutil>=2.5.3 in /usr/local/lib/python3.7/dist-packages (from ibm_watson) (2.8.2)\n",
            "Requirement already satisfied: requests<3.0,>=2.0 in /usr/local/lib/python3.7/dist-packages (from ibm_watson) (2.27.1)\n",
            "Requirement already satisfied: websocket-client==1.1.0 in /usr/local/lib/python3.7/dist-packages (from ibm_watson) (1.1.0)\n",
            "Requirement already satisfied: urllib3<2.0.0,>=1.26.0 in /usr/local/lib/python3.7/dist-packages (from ibm-cloud-sdk-core==3.*,>=3.3.6->ibm_watson) (1.26.8)\n",
            "Requirement already satisfied: PyJWT<3.0.0,>=2.0.1 in /usr/local/lib/python3.7/dist-packages (from ibm-cloud-sdk-core==3.*,>=3.3.6->ibm_watson) (2.3.0)\n",
            "Requirement already satisfied: six>=1.5 in /usr/local/lib/python3.7/dist-packages (from python-dateutil>=2.5.3->ibm_watson) (1.15.0)\n",
            "Requirement already satisfied: charset-normalizer~=2.0.0 in /usr/local/lib/python3.7/dist-packages (from requests<3.0,>=2.0->ibm_watson) (2.0.9)\n",
            "Requirement already satisfied: idna<4,>=2.5 in /usr/local/lib/python3.7/dist-packages (from requests<3.0,>=2.0->ibm_watson) (2.10)\n",
            "Requirement already satisfied: certifi>=2017.4.17 in /usr/local/lib/python3.7/dist-packages (from requests<3.0,>=2.0->ibm_watson) (2021.10.8)\n"
          ]
        }
      ]
    },
    {
      "cell_type": "code",
      "source": [
        "from ibm_watson import SpeechToTextV1\n",
        "from ibm_cloud_sdk_core.authenticators import IAMAuthenticator"
      ],
      "metadata": {
        "id": "iSGjar4_V9Yw"
      },
      "execution_count": 58,
      "outputs": []
    },
    {
      "cell_type": "markdown",
      "source": [
        "2. Setup STT Service"
      ],
      "metadata": {
        "id": "EtonKQmcUDmx"
      }
    },
    {
      "cell_type": "code",
      "source": [
        "apikey = 'u9dE1TYnndD77H6uCTxPazqixP_Yv1Aj6Rz56Ui_tKbu'\n",
        "url = 'https://api.us-south.speech-to-text.watson.cloud.ibm.com/instances/4313f2f0-ec19-4f25-812e-8e12ae0715f2'"
      ],
      "metadata": {
        "id": "nxO0Th1sUC1U"
      },
      "execution_count": 59,
      "outputs": []
    },
    {
      "cell_type": "code",
      "source": [
        "authenticator = IAMAuthenticator(apikey)\n",
        "stt = SpeechToTextV1(authenticator=authenticator)\n",
        "stt.set_service_url(url)"
      ],
      "metadata": {
        "id": "4kT5V0hIUCsp"
      },
      "execution_count": 60,
      "outputs": []
    },
    {
      "cell_type": "markdown",
      "source": [
        "3. Compress and Split Audio"
      ],
      "metadata": {
        "id": "kwr8nxu-UDL8"
      }
    },
    {
      "cell_type": "code",
      "source": [
        "import subprocess\n",
        "import os\n",
        "command = 'ffmpeg -i NASA_Space_Story_1074.wav -vn -ar 44100 -ac 2 -b:a 192k audio.mp3'\n",
        "subprocess.call(command, shell=True)\n",
        "command = 'ffmpeg -i audio.mp3 -f segment -segment_time 360 -c copy %03d.mp3'\n",
        "subprocess.call(command, shell=True)"
      ],
      "metadata": {
        "colab": {
          "base_uri": "https://localhost:8080/"
        },
        "id": "CUniRy7zUC-B",
        "outputId": "de884084-7cb2-4894-fb1b-8ad50f4089a8"
      },
      "execution_count": 61,
      "outputs": [
        {
          "output_type": "execute_result",
          "data": {
            "text/plain": [
              "0"
            ]
          },
          "metadata": {},
          "execution_count": 61
        }
      ]
    },
    {
      "cell_type": "code",
      "source": [
        "files = []\n",
        "for filename in os.listdir('.'):\n",
        "  if filename.endswith(\".mp3\") and filename != 'audio.mp3':\n",
        "    files.append(filename)\n",
        "files.sort()"
      ],
      "metadata": {
        "id": "OecJXUlZtokP"
      },
      "execution_count": 63,
      "outputs": []
    },
    {
      "cell_type": "code",
      "source": [
        "files"
      ],
      "metadata": {
        "colab": {
          "base_uri": "https://localhost:8080/"
        },
        "id": "792nKsOzUC6H",
        "outputId": "060cba4b-166f-49f7-8fc0-5da2ed8f0a66"
      },
      "execution_count": 64,
      "outputs": [
        {
          "output_type": "execute_result",
          "data": {
            "text/plain": [
              "['000.mp3', '001.mp3', '002.mp3', '003.mp3']"
            ]
          },
          "metadata": {},
          "execution_count": 64
        }
      ]
    },
    {
      "cell_type": "markdown",
      "source": [
        "4. Perform Conversion"
      ],
      "metadata": {
        "id": "UOgBc0w7UDVY"
      }
    },
    {
      "cell_type": "code",
      "execution_count": null,
      "metadata": {
        "id": "qWBb0HFsMxxe"
      },
      "outputs": [],
      "source": [
        "results = []\n",
        "for filename in files:\n",
        "  with open(filename, 'rb') as f:\n",
        "    res = stt.recognize(audio=f, content_type='audio/mp3', model='en-US_NarrowbandModel', \\\n",
        "                        inactivity_timeout=360).get_result()\n",
        "    results.append(res)               "
      ]
    },
    {
      "cell_type": "code",
      "source": [
        "text = []\n",
        "for file in results:\n",
        "  for result in file['results']:\n",
        "    text.append(result['alternatives'][0]['transcript'].rstrip() + '.\\n')"
      ],
      "metadata": {
        "id": "HJExZSxUvVU9"
      },
      "execution_count": 37,
      "outputs": []
    },
    {
      "cell_type": "code",
      "source": [
        "text"
      ],
      "metadata": {
        "colab": {
          "base_uri": "https://localhost:8080/"
        },
        "id": "NCn_XlgOwLNx",
        "outputId": "e47cb518-8d9a-49c7-f05f-27e317f6dcdf"
      },
      "execution_count": 38,
      "outputs": [
        {
          "output_type": "execute_result",
          "data": {
            "text/plain": [
              "[]"
            ]
          },
          "metadata": {},
          "execution_count": 38
        }
      ]
    },
    {
      "cell_type": "code",
      "source": [
        "with open('output.txt', 'w') as out:\n",
        "  out.writelines(text)"
      ],
      "metadata": {
        "id": "3Ch2zQsFwA7A"
      },
      "execution_count": 39,
      "outputs": []
    }
  ]
}