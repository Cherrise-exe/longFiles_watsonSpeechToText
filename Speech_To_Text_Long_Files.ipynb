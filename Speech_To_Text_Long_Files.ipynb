{
  "nbformat": 4,
  "nbformat_minor": 0,
  "metadata": {
    "colab": {
      "name": "Speech_To_Text_Long_Files.ipynb",
      "provenance": [],
      "authorship_tag": "ABX9TyMN8iBXp+ybev4cyE6ehJed",
      "include_colab_link": true
    },
    "kernelspec": {
      "name": "python3",
      "display_name": "Python 3"
    },
    "language_info": {
      "name": "python"
    }
  },
  "cells": [
    {
      "cell_type": "markdown",
      "metadata": {
        "id": "view-in-github",
        "colab_type": "text"
      },
      "source": [
        "<a href=\"https://colab.research.google.com/github/Cherrise-exe/longFiles_watsonSpeechToText/blob/main/Speech_To_Text_Long_Files.ipynb\" target=\"_parent\"><img src=\"https://colab.research.google.com/assets/colab-badge.svg\" alt=\"Open In Colab\"/></a>"
      ]
    },
    {
      "cell_type": "markdown",
      "source": [
        "1. Install and Import Dependencies"
      ],
      "metadata": {
        "id": "IKkQZNhQUH7i"
      }
    },
    {
      "cell_type": "code",
      "source": [
        "pip install ibm_watson"
      ],
      "metadata": {
        "colab": {
          "base_uri": "https://localhost:8080/"
        },
        "id": "gwN1sFEHUCnH",
        "outputId": "2b1a9650-4ba3-4086-b836-f00cb0415dd5"
      },
      "execution_count": 56,
      "outputs": [
        {
          "output_type": "stream",
          "name": "stdout",
          "text": [
            "Requirement already satisfied: ibm_watson in /usr/local/lib/python3.7/dist-packages (5.3.0)\n",
            "Requirement already satisfied: ibm-cloud-sdk-core==3.*,>=3.3.6 in /usr/local/lib/python3.7/dist-packages (from ibm_watson) (3.13.2)\n",
            "Requirement already satisfied: python-dateutil>=2.5.3 in /usr/local/lib/python3.7/dist-packages (from ibm_watson) (2.8.2)\n",
            "Requirement already satisfied: requests<3.0,>=2.0 in /usr/local/lib/python3.7/dist-packages (from ibm_watson) (2.27.1)\n",
            "Requirement already satisfied: websocket-client==1.1.0 in /usr/local/lib/python3.7/dist-packages (from ibm_watson) (1.1.0)\n",
            "Requirement already satisfied: urllib3<2.0.0,>=1.26.0 in /usr/local/lib/python3.7/dist-packages (from ibm-cloud-sdk-core==3.*,>=3.3.6->ibm_watson) (1.26.8)\n",
            "Requirement already satisfied: PyJWT<3.0.0,>=2.0.1 in /usr/local/lib/python3.7/dist-packages (from ibm-cloud-sdk-core==3.*,>=3.3.6->ibm_watson) (2.3.0)\n",
            "Requirement already satisfied: six>=1.5 in /usr/local/lib/python3.7/dist-packages (from python-dateutil>=2.5.3->ibm_watson) (1.15.0)\n",
            "Requirement already satisfied: charset-normalizer~=2.0.0 in /usr/local/lib/python3.7/dist-packages (from requests<3.0,>=2.0->ibm_watson) (2.0.9)\n",
            "Requirement already satisfied: idna<4,>=2.5 in /usr/local/lib/python3.7/dist-packages (from requests<3.0,>=2.0->ibm_watson) (2.10)\n",
            "Requirement already satisfied: certifi>=2017.4.17 in /usr/local/lib/python3.7/dist-packages (from requests<3.0,>=2.0->ibm_watson) (2021.10.8)\n"
          ]
        }
      ]
    },
    {
      "cell_type": "code",
      "source": [
        "from ibm_watson import SpeechToTextV1\n",
        "from ibm_cloud_sdk_core.authenticators import IAMAuthenticator"
      ],
      "metadata": {
        "id": "iSGjar4_V9Yw"
      },
      "execution_count": 58,
      "outputs": []
    },
    {
      "cell_type": "markdown",
      "source": [
        "2. Setup STT Service"
      ],
      "metadata": {
        "id": "EtonKQmcUDmx"
      }
    },
    {
      "cell_type": "code",
      "source": [
        "apikey = 'u9dE1TYnndD77H6uCTxPazqixP_Yv1Aj6Rz56Ui_tKbu'\n",
        "url = 'https://api.us-south.speech-to-text.watson.cloud.ibm.com/instances/4313f2f0-ec19-4f25-812e-8e12ae0715f2'"
      ],
      "metadata": {
        "id": "nxO0Th1sUC1U"
      },
      "execution_count": 59,
      "outputs": []
    },
    {
      "cell_type": "code",
      "source": [
        "authenticator = IAMAuthenticator(apikey)\n",
        "stt = SpeechToTextV1(authenticator=authenticator)\n",
        "stt.set_service_url(url)"
      ],
      "metadata": {
        "id": "4kT5V0hIUCsp"
      },
      "execution_count": 60,
      "outputs": []
    },
    {
      "cell_type": "markdown",
      "source": [
        "3. Compress and Split Audio"
      ],
      "metadata": {
        "id": "kwr8nxu-UDL8"
      }
    },
    {
      "cell_type": "code",
      "source": [
        "import subprocess\n",
        "import os\n",
        "command = 'ffmpeg -i NASA_Space_Story_1074.wav -vn -ar 44100 -ac 2 -b:a 192k audio.mp3'\n",
        "subprocess.call(command, shell=True)\n",
        "command = 'ffmpeg -i audio.mp3 -f segment -segment_time 360 -c copy %03d.mp3'\n",
        "subprocess.call(command, shell=True)"
      ],
      "metadata": {
        "colab": {
          "base_uri": "https://localhost:8080/"
        },
        "id": "CUniRy7zUC-B",
        "outputId": "de884084-7cb2-4894-fb1b-8ad50f4089a8"
      },
      "execution_count": 61,
      "outputs": [
        {
          "output_type": "execute_result",
          "data": {
            "text/plain": [
              "0"
            ]
          },
          "metadata": {},
          "execution_count": 61
        }
      ]
    },
    {
      "cell_type": "code",
      "source": [
        "files = []\n",
        "for filename in os.listdir('.'):\n",
        "  if filename.endswith(\".mp3\") and filename != 'audio.mp3':\n",
        "    files.append(filename)\n",
        "files.sort()"
      ],
      "metadata": {
        "id": "OecJXUlZtokP"
      },
      "execution_count": 63,
      "outputs": []
    },
    {
      "cell_type": "code",
      "source": [
        "files"
      ],
      "metadata": {
        "colab": {
          "base_uri": "https://localhost:8080/"
        },
        "id": "792nKsOzUC6H",
        "outputId": "060cba4b-166f-49f7-8fc0-5da2ed8f0a66"
      },
      "execution_count": 64,
      "outputs": [
        {
          "output_type": "execute_result",
          "data": {
            "text/plain": [
              "['000.mp3', '001.mp3', '002.mp3', '003.mp3']"
            ]
          },
          "metadata": {},
          "execution_count": 64
        }
      ]
    },
    {
      "cell_type": "markdown",
      "source": [
        "4. Perform Conversion"
      ],
      "metadata": {
        "id": "UOgBc0w7UDVY"
      }
    },
    {
      "cell_type": "code",
      "execution_count": 65,
      "metadata": {
        "id": "qWBb0HFsMxxe"
      },
      "outputs": [],
      "source": [
        "results = []\n",
        "for filename in files:\n",
        "  with open(filename, 'rb') as f:\n",
        "    res = stt.recognize(audio=f, content_type='audio/mp3', model='en-US_NarrowbandModel', \\\n",
        "                        inactivity_timeout=360).get_result()\n",
        "    results.append(res)               "
      ]
    },
    {
      "cell_type": "code",
      "source": [
        "text = []\n",
        "for file in results:\n",
        "  for result in file['results']:\n",
        "    text.append(result['alternatives'][0]['transcript'].rstrip() + '.\\n')"
      ],
      "metadata": {
        "id": "HJExZSxUvVU9"
      },
      "execution_count": 67,
      "outputs": []
    },
    {
      "cell_type": "code",
      "source": [
        "text"
      ],
      "metadata": {
        "colab": {
          "base_uri": "https://localhost:8080/"
        },
        "id": "NCn_XlgOwLNx",
        "outputId": "c6159a2d-f63a-4da8-e496-3214c0a85e82"
      },
      "execution_count": 68,
      "outputs": [
        {
          "output_type": "execute_result",
          "data": {
            "text/plain": [
              "['they still the one thousand seventy four four minutes thirty seconds coming in three two one.\\n',\n",
              " 'on the fifteenth anniversary of Apollo eleven NASA for exams the space storage.\\n',\n",
              " 'may twenty fifth nineteen sixty one I believe that this nation should commit itself to achieving the goal before this decade is out of landing a man on the moon and returning him safely to the earth.\\n',\n",
              " 'seconds and counting.\\n',\n",
              " 'astronauts reported feels good two minutes twenty five seconds.\\n',\n",
              " 'twenty seconds and counting.\\n',\n",
              " 'T. minus fifteen seconds guidance is internal twelve eleven ten nine ignition sequence start.\\n',\n",
              " 'six five four.\\n',\n",
              " '%HESITATION.\\n',\n",
              " 'engine.\\n',\n",
              " \"two years later on July sixteenth nineteen sixty nine Apollo eleven was hurled at his face from NASA's Kennedy Space Center Jerry in the crew three astronauts Neil Armstrong buzz Aldrin and Michael Collins.\\n\",\n",
              " \"the great voyage to the moon was under way Roger eleven we'll pass that on and it looks like %HESITATION on your order now.\\n\",\n",
              " 'quality is going to plan to.\\n',\n",
              " 'twenty grand quality we copy on the ground you got a bunch of guys about to turn blue with reason again thanks a lot.\\n',\n",
              " 'twenty years people from around the world watched as Apollo eleven commander Neil Armstrong took that historic first step onto the lunar surface.\\n',\n",
              " '%HESITATION program.\\n',\n",
              " 'Collins was the command module pilot on Apollo eleven one of sex I think of the first lunar landing was to bring people over all nations and closer together.\\n',\n",
              " \"after the flight of Apollo eleven we three crew members %HESITATION so saying other a quick trip around the world revisited some twenty two %HESITATION countries and %HESITATION slightly over a month's time and we noticed that everywhere we went %HESITATION no matter what the country no matter what it's politics %HESITATION.\\n\",\n",
              " 'people are seem to identify very closely with us and with the Apollo program they sell part is %HESITATION assuming times first steps out onto the surface of another planet and I think that.\\n',\n",
              " \"line of Apollo eleven and and %HESITATION make the world a little bit smaller and %HESITATION in a little bit %HESITATION friendlier and %HESITATION and didn't hear anything going on unity that had not existed before the late Dr Werner von Braun then director of NASA's Marshall space flight center we knew we were very pleased that it could be done and.\\n\",\n",
              " 'when you consider that.\\n',\n",
              " 'he is typical soft on Apollo flights to the moon includes approximately six million parts each of one must work.\\n',\n",
              " 'easy off each of one call can call disaster.\\n',\n",
              " 'and you are working in a new field of technology.\\n',\n",
              " 'everything is on press the dentist.\\n',\n",
              " 'and yet you are working on that limited pocket against a hard time schedule all is quiet on the mood right now but the legacy of a follow is with us forever.\\n',\n",
              " 'historian Dr Arthur M. Schlesinger summed it up this way this is star in five hundred years from now looking back a member of the twentieth century it will be because the twentieth century was very man first began to break his directorial bonds and begin the I. the expiration the state.\\n',\n",
              " 'in the generation which is %HESITATION.\\n',\n",
              " 'coming of age in the sixties the visit generation which began in the last series %HESITATION generations on their own lifetime shift for a man as a feature of the single planet to madam beginning a date on the fifteenth anniversary of Apollo eleven NASA has presented the space storage.\\n',\n",
              " 'NASA special report number two three six.\\n',\n",
              " 'fourteen minutes thirty seconds coming in three to.\\n',\n",
              " 'one.\\n',\n",
              " 'this is a follow up that online control with that this six minute mark and %HESITATION countdown for Apollo eleven now five minutes fifty two is that right July nineteen sixty nine the same necessarily space center Florida.\\n',\n",
              " 'it was July sixteenth.\\n',\n",
              " 'morning was hot and clear.\\n',\n",
              " 'more is the launch pad thirty six stories of rocket and spacecraft the most powerful machine ever devised by man about to begin the first leg of a half million mile round trip to the surface of the moon.\\n',\n",
              " 'open phone %HESITATION not just a doll five minutes.\\n',\n",
              " 'hi on top of the Apollo eleven sacks inside the twelve by twelve foot home states a man modul.\\n',\n",
              " 'three modern they explored Armstrong Collins at all.\\n',\n",
              " 'or completing final preparation.\\n',\n",
              " 'check out from our.\\n',\n",
              " 'their mission that involve the drawing boards to reality in slightly more than eight years time.\\n',\n",
              " 'the assignment was clear land on the moon and return safely to earth.\\n',\n",
              " 'NASA the national aeronautics and space administration presents a special fifteenth anniversary reports.\\n',\n",
              " 'the flight of Apollo eleven eagle and Columbia revisited.\\n',\n",
              " \"%HESITATION begin to build up well now hitting the four minute mile four minutes not one minutes and counting we %HESITATION goal for a follow up they'll go on all that significant day in July as the world watched and waited for the now familiar sights and sounds of ignition then lifts off it was not difficult to find one's mind wandering back to some of her days of major milestones in man's brief spaces.\\n\",\n",
              " 'events which charted the course for Apollo eleven and beyond it was may fifth nineteen sixty one for this country took its first tentative step into space for man.\\n',\n",
              " \"astronaut Alan Shepard wasn't.\\n\",\n",
              " 'all right.\\n',\n",
              " 'I started reading alarms blare.\\n',\n",
              " 'started for man in space.\\n',\n",
              " 'later in that same on may twenty fifth to be exact a national goal was set for I believe that this nation should commit itself to achieving the goals.\\n',\n",
              " 'for this decade is out of landing a man on the moon and returning him safely to the earth.\\n',\n",
              " 'in sixteen years this call was to be reinforced by a second president.\\n',\n",
              " 'fourth we must be sure our preeminence in the peaceful exploration of outer space.\\n',\n",
              " 'focusing on explanations of the loan and the fact.\\n',\n",
              " 'and brought in by a third as we explore the reaches of space.\\n',\n",
              " 'let us go to the new worlds together.\\n',\n",
              " 'not a New World to be conquered but as a new adventure sure on the side.\\n',\n",
              " \"I'll still go at this time.\\n\",\n",
              " 'Neil Armstrong reported back when he sees again all.\\n',\n",
              " 'money man flight preceded this first moon landing at ten.\\n',\n",
              " 'each adding in a step by step man the knowledge and experience required for actual lunar mission.\\n',\n",
              " 'the pioneering the mercury era Gosper said followed an astronaut Shepard sub orbital path.\\n',\n",
              " 'soon to come earth orbit.\\n',\n",
              " \"they've got the job glance.\\n\",\n",
              " '%HESITATION.\\n',\n",
              " '%HESITATION Roger that clock operating or under way.\\n',\n",
              " 'carpenter your raw and Gordon Cooper follow John Glenn into orbit with Cooper closing out of project mercury with the new space Eurasian record thirty four hours and twenty minutes inside his faith seven capsule.\\n',\n",
              " 'it was now knows for a fact that man could indeed survive it operate effectively in a hostile environment of space.\\n',\n",
              " 'meanwhile the newest manned flight program was Janet.\\n',\n",
              " 'zero four eight.\\n',\n",
              " \"all right you're you're on your way around.\\n\",\n",
              " \"Gemini was the bridge between mercury and the problem was in jeopardy that man we're working space and maneuvers for after rendezvous with another seven A. as seven six would you continue with the description of your station keeping.\\n\",\n",
              " '%HESITATION.\\n',\n",
              " 'and later job.\\n',\n",
              " 'when I ate it looks good here from the ground or Shawn calling regions %HESITATION everything was good.\\n',\n",
              " 'okay %HESITATION.\\n',\n",
              " 'all right %HESITATION.\\n',\n",
              " 'all right here Hey congratulations %HESITATION real.\\n',\n",
              " 'it was in Germany that man walk.\\n',\n",
              " 'thirty dollars.\\n',\n",
              " 'Gemini astronauts or made a loss as long as fourteen days in their small craft band it was in Germany that pilots help steer their vehicle through re entry.\\n',\n",
              " 'as the tenth and final Gemini mission successfully slash down of the athletic the three man Apollo program rolled into high gear.\\n',\n",
              " 'only to be halted by the accident on launch pad thirty four.\\n',\n",
              " \"this tragedy which claimed the lives of astronauts Grissom white and Japanese resulted in a renewed dedication on the part of the country's manned space C. and a painstaking redesign of the Apollo command module as well as safety procedures on the launch pad itself.\\n\",\n",
              " 'in October nineteen sixty eight the spacecraft was ready for its man shakes %HESITATION flight.\\n',\n",
              " 'ready to copy %HESITATION.\\n',\n",
              " \"good real good Wally coming right down the line %HESITATION and she's really nice control system next we're going to ambitious drive for avoids the boot off of it for the astronauts of Apollo eight.\\n\",\n",
              " 'you.\\n',\n",
              " \"I'll follow nine five.\\n\",\n",
              " 'it was an earth orbital full dress rehearsal for all components of the Apollo spacecraft including the for like get lunar module.\\n',\n",
              " \"Roger this is Houston could you give us I'd be a great place.\\n\",\n",
              " \"three years later I've been really curious you know they get by square and %HESITATION drop I'm copying you five bye bye.\\n\",\n",
              " 'then %HESITATION second full dress rehearse this time in orbit around the moon itself for Apollo ten crew members inside there for like good Snoopy descended to within ten miles of the lunar surface.\\n',\n",
              " 'right go ahead.\\n',\n",
              " \"yeah you're weaving your way up the freeway %HESITATION can you give me a poster and report over.\\n\",\n",
              " '%HESITATION is simply on internal power with the launch vehicle at this time.\\n',\n",
              " 'twenty seconds away from the Apollo with this aids us %HESITATION five mercury Gemini and receiving a problem as it was now time to put all the experience all the hardware all of the know how put it all together and make it work for Apollo eleven.\\n',\n",
              " \"from launch pad thirty nine eighty at the John F. Kennedy Space Center astronaut Armstrong Collins at all we're about to make their giant leap toward fulfilling our national goal.\\n\",\n",
              " 'this is how it happened nine mission sequence starts six five four three two one.\\n',\n",
              " 'zero all engine thirty two minutes.\\n',\n",
              " 'zero.\\n',\n",
              " 'this is Houston your goal for T. L. Y. or.\\n',\n",
              " '%HESITATION.\\n',\n",
              " 'all right.\\n',\n",
              " \"all your systems are looking good going around the corner we'll see on the other side or okay all right around the.\\n\",\n",
              " \"and we've had a loss of signal as Apollo.\\n\",\n",
              " 'eleven goes behind the moon.\\n',\n",
              " 'or in a or.\\n',\n",
              " '%HESITATION %HESITATION like %HESITATION your.\\n',\n",
              " '%HESITATION.\\n',\n",
              " \"I'm going to.\\n\",\n",
              " \"we're standing by for.\\n\",\n",
              " 'all right here and you go with many.\\n',\n",
              " 'or over the phone with online.\\n',\n",
              " \"wearing it now you're going to be %HESITATION over.\\n\",\n",
              " '%HESITATION.\\n',\n",
              " 'no hi %HESITATION.\\n',\n",
              " \"right you're now.\\n\",\n",
              " 'down down.\\n',\n",
              " 'more forward.\\n',\n",
              " 'four forward drifting to the right level.\\n',\n",
              " 'second order.\\n',\n",
              " 'stop.\\n',\n",
              " '%HESITATION these problems all of these in this command %HESITATION right off.\\n',\n",
              " 'four thirteen events.\\n',\n",
              " 'we got to get down and go.\\n',\n",
              " 'and %HESITATION.\\n',\n",
              " \"quality but if you're going to plan.\\n\",\n",
              " 'Roger Cranko entry we copy on the ground you got a bunch of guys about to turn blue will bring them again thanks a lot.\\n',\n",
              " '%HESITATION.\\n',\n",
              " '%HESITATION.\\n',\n",
              " 'number for pride %HESITATION.\\n',\n",
              " 'it has to be the proudest day of our lives.\\n',\n",
              " 'track road a base %HESITATION your.\\n',\n",
              " 'Roger R. guide and.\\n',\n",
              " 'your clerk protect.\\n',\n",
              " \"Roger I understand we're number one on the runway.\\n\",\n",
              " 'beautiful forty six thirty six three.\\n',\n",
              " '%HESITATION.\\n',\n",
              " '%HESITATION.\\n',\n",
              " \"and you're going to go over.\\n\",\n",
              " 'C. O. R. L..\\n',\n",
              " 'Roger we got sick of it all.\\n',\n",
              " 'I want to know the world not only my number nine.\\n',\n",
              " 'replaced %HESITATION.\\n',\n",
              " '%HESITATION.\\n',\n",
              " '%HESITATION.\\n',\n",
              " 'from the planet earth for for for a bond number.\\n',\n",
              " 'a large nineteen sixty nine.\\n',\n",
              " 'repayment program card.\\n',\n",
              " '%HESITATION three crew members Mister Randall %HESITATION %HESITATION the.\\n',\n",
              " 'for the United States.\\n',\n",
              " 'mass.\\n',\n",
              " 'the national aeronautics and space administration has presented a special fifteenth anniversary report.\\n',\n",
              " 'the flight of Apollo eleven.\\n',\n",
              " 'eagle M. Columbia revisited.\\n']"
            ]
          },
          "metadata": {},
          "execution_count": 68
        }
      ]
    },
    {
      "cell_type": "code",
      "source": [
        "with open('output.txt', 'w') as out:\n",
        "  out.writelines(text)"
      ],
      "metadata": {
        "id": "3Ch2zQsFwA7A"
      },
      "execution_count": 69,
      "outputs": []
    }
  ]
}